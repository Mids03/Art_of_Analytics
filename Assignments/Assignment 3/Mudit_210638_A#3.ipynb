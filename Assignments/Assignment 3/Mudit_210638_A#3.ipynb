{
 "cells": [
  {
   "cell_type": "markdown",
   "metadata": {
    "id": "KBC-TeRWnwQX"
   },
   "source": [
    "### **Question 1: Linear Regression**\n",
    "a) Load the \"Boston Housing\" dataset from scikit-learn's built-in datasets.\n",
    "\n",
    "b) Split the data into training and testing sets.\n",
    "\n",
    "if your roll number is even then\n",
    "(80% training, 20% testing).\n",
    "\n",
    "if your roll number is odd then\n",
    "(70% training, 30% testing).\n",
    "\n",
    "c) Train a linear regression model on the training data and make predictions on the testing data.\n",
    "\n",
    "d) Calculate the mean squared error (MSE) between the predicted and actual values."
   ]
  },
  {
   "cell_type": "code",
   "execution_count": 1,
   "metadata": {
    "id": "oPQXrvkpnuck"
   },
   "outputs": [
    {
     "name": "stdout",
     "output_type": "stream",
     "text": [
      "Mean Squared Error: 26.081847631350556\n"
     ]
    }
   ],
   "source": [
    "from sklearn import datasets\n",
    "import pandas as pd\n",
    "import numpy as np\n",
    "from sklearn.model_selection import train_test_split\n",
    "from sklearn.linear_model import LinearRegression\n",
    "from sklearn.metrics import mean_squared_error\n",
    "\n",
    "data_url = \"http://lib.stat.cmu.edu/datasets/boston\"\n",
    "raw_df = pd.read_csv(data_url, sep=\"\\s+\", skiprows=22, header=None)\n",
    "data = np.hstack([raw_df.values[::2, :], raw_df.values[1::2, :2]])\n",
    "target = raw_df.values[1::2, 2]\n",
    "\n",
    "X = data\n",
    "y = target\n",
    "\n",
    "# Split the data into training and testing sets\n",
    "X_train, X_test, y_train, y_test = train_test_split(X, y, test_size=0.2)\n",
    "\n",
    "# Train a linear regression model\n",
    "reg = LinearRegression().fit(X_train, y_train)\n",
    "\n",
    "# Make predictions on the testing data\n",
    "y_pred = reg.predict(X_test)\n",
    "\n",
    "# Calculate the mean squared error\n",
    "mse = mean_squared_error(y_test, y_pred)\n",
    "\n",
    "# print(\"Mean Squared Error:\", mse)\n",
    "print(\"Mean Squared Error:\", mse)"
   ]
  },
  {
   "cell_type": "markdown",
   "metadata": {
    "id": "YSS5rTA4pTvS"
   },
   "source": [
    "# **Question 2: L1 Regularization (Lasso)**\n",
    "a) Load the \"Diabetes\" dataset from scikit-learn's built-in datasets.\n",
    "\n",
    "b) Split the data into training and testing sets.\n",
    "\n",
    "if your roll number is even then (80% training, 20% testing).\n",
    "\n",
    "if your roll number is odd then (70% training, 30% testing).\n",
    "\n",
    "c) Train a Lasso regression model on the training data with an alpha value of 0.1.\n",
    "\n",
    "***Model name should be your first name***\n",
    "\n",
    "d) Evaluate the model's performance using the mean squared error (MSE) on the testing data.\n",
    "\n",
    "e) Identify the features that were selected (non-zero coefficients) by the Lasso model."
   ]
  },
  {
   "cell_type": "code",
   "execution_count": 2,
   "metadata": {
    "id": "PQlyXVneoNzi"
   },
   "outputs": [
    {
     "name": "stdout",
     "output_type": "stream",
     "text": [
      "Mean Squared Error: 3360.338021314688\n",
      "Selected Features: ['sex', 'bmi', 'bp', 's1', 's3', 's5', 's6']\n"
     ]
    }
   ],
   "source": [
    "from sklearn import datasets\n",
    "from sklearn.model_selection import train_test_split\n",
    "from sklearn.linear_model import Lasso\n",
    "from sklearn.metrics import mean_squared_error\n",
    "\n",
    "# Load the \"Diabetes\" dataset from scikit-learn's built-in datasets.\n",
    "diabetes = datasets.load_diabetes()\n",
    "X = diabetes.data\n",
    "y = diabetes.target\n",
    "\n",
    "# Split the data into training and testing sets.\n",
    "X_train, X_test, y_train, y_test = train_test_split(X, y, test_size=0.2)\n",
    "\n",
    "# Train a Lasso regression model on the training data with an alpha value of 0.1.\n",
    "Mudit = Lasso(alpha=0.1)\n",
    "Mudit.fit(X_train, y_train)\n",
    "\n",
    "# Evaluate the model's performance using the mean squared error (MSE) on the testing data.\n",
    "y_pred = Mudit.predict(X_test)\n",
    "mse = mean_squared_error(y_test, y_pred)\n",
    "print(\"Mean Squared Error:\", mse)\n",
    "\n",
    "# Identify the features that were selected (non-zero coefficients) by the Lasso model.\n",
    "selected_features = [diabetes.feature_names[i] for i in range(len(Mudit.coef_)) if Mudit.coef_[i] != 0]\n",
    "print(\"Selected Features:\", selected_features)"
   ]
  },
  {
   "cell_type": "markdown",
   "metadata": {
    "id": "LPm7ty0SpplH"
   },
   "source": [
    "# **Question 3: L2 Regularization (Ridge)**\n",
    "a) Load the \"California Housing\" dataset from an online source (e.g., Kaggle).\n",
    "*housing.csv* written\n",
    "\n",
    "b) Perform any necessary preprocessing steps, such as handling missing values or scaling the features.\n",
    "\n",
    "c) Split the data into training and testing sets.\n",
    "\n",
    "if your roll number is prime (last two digits) then (85% training, 15% testing).\n",
    "\n",
    "if your roll number is not prime (last two digits) then (75% training, 35% testing).\n",
    "\n",
    "d) Train a Ridge regression model on the training data with an alpha value of 0.01.\n",
    "\n",
    "e) Calculate the mean squared error (MSE) on the testing data to assess the model's performance."
   ]
  },
  {
   "cell_type": "code",
   "execution_count": 3,
   "metadata": {
    "id": "YZjj1ogDpjz7"
   },
   "source": [
    "import pandas as pd\n",
    "from sklearn.model_selection import train_test_split\n",
    "from sklearn.linear_model import Ridge\n",
    "from sklearn.metrics import mean_squared_error\n",
    "\n",
    "# Load the dataset\n",
    "df = pd.read_csv('housing.csv')\n",
    "\n",
    "# Preprocessing steps\n",
    "df.dropna(inplace=True)\n",
    "df['price_scaled'] = df['price'] / 10000\n",
    "\n",
    "# Split the data into training and testing sets\n",
    "X_train, X_test, y_train, y_test = train_test_split(df.drop('price', axis=1), df['area'], test_size=0.35, random_state=42)\n",
    "\n",
    "# Train a Ridge regression model on the training data with an alpha value of 0.01\n",
    "ridge = Ridge(alpha=0.01)\n",
    "ridge.fit(X_train, y_train)\n",
    "\n",
    "# Calculate the mean squared error (MSE) on the testing data to assess the model's performance\n",
    "y_pred = ridge.predict(X_test)\n",
    "mse = mean_squared_error(y_test, y_pred)\n",
    "print(f\"Mean Squared Error: {mse}\")"
   ]
  }
 ],
 "metadata": {
  "colab": {
   "provenance": []
  },
  "kernelspec": {
   "display_name": "Python 3 (ipykernel)",
   "language": "python",
   "name": "python3"
  },
  "language_info": {
   "codemirror_mode": {
    "name": "ipython",
    "version": 3
   },
   "file_extension": ".py",
   "mimetype": "text/x-python",
   "name": "python",
   "nbconvert_exporter": "python",
   "pygments_lexer": "ipython3",
   "version": "3.10.11"
  }
 },
 "nbformat": 4,
 "nbformat_minor": 1
}
