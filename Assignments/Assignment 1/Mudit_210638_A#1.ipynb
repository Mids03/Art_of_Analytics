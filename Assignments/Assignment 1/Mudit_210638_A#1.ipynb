{
 "cells": [
  {
   "cell_type": "code",
   "execution_count": 1,
   "id": "08357618",
   "metadata": {},
   "outputs": [],
   "source": [
    "#Q1\n",
    "import numpy as np38\n",
    "array = np38.array([[4,6,3],[5,7,3],[9,8,7]])"
   ]
  },
  {
   "cell_type": "code",
   "execution_count": 2,
   "id": "f4def931",
   "metadata": {},
   "outputs": [
    {
     "data": {
      "text/plain": [
       "array([[0, 0, 0, 0],\n",
       "       [0, 0, 0, 0],\n",
       "       [0, 0, 0, 0]])"
      ]
     },
     "execution_count": 2,
     "metadata": {},
     "output_type": "execute_result"
    }
   ],
   "source": [
    "#Zero Array Q1.1\n",
    "np38.zeros((3,4), dtype = int)"
   ]
  },
  {
   "cell_type": "code",
   "execution_count": 3,
   "id": "38f4fd3e",
   "metadata": {},
   "outputs": [
    {
     "name": "stdout",
     "output_type": "stream",
     "text": [
      "Element in the second row and third column = 3\n"
     ]
    }
   ],
   "source": [
    "#Q1.2\n",
    "print('Element in the second row and third column =', array[1][2])"
   ]
  },
  {
   "cell_type": "code",
   "execution_count": 4,
   "id": "77d263d2",
   "metadata": {},
   "outputs": [
    {
     "name": "stdout",
     "output_type": "stream",
     "text": [
      "Max of Row 1 = 6\n",
      "Max of Row 2 = 7\n",
      "Max of Row 3 = 9\n"
     ]
    }
   ],
   "source": [
    "#Q1.3\n",
    "for i in range(3):\n",
    "    print('Max of Row', i+1, '=', np38.max(array[i]))"
   ]
  },
  {
   "cell_type": "code",
   "execution_count": 5,
   "id": "4f217803",
   "metadata": {},
   "outputs": [
    {
     "name": "stdout",
     "output_type": "stream",
     "text": [
      "Mean of Row 1 = 4.333333333333333\n",
      "Mean of Row 2 = 5.0\n",
      "Mean of Row 3 = 8.0\n"
     ]
    }
   ],
   "source": [
    "#Q1.4\n",
    "for i in range(3):\n",
    "    print('Mean of Row', i+1, '=',np38.mean(array[i]))"
   ]
  },
  {
   "cell_type": "code",
   "execution_count": 6,
   "id": "ac2af550",
   "metadata": {},
   "outputs": [
    {
     "name": "stdout",
     "output_type": "stream",
     "text": [
      "Subarray:\n",
      "[4 6 3]\n",
      "[5 7 3]\n"
     ]
    }
   ],
   "source": [
    "#Q1.5\n",
    "print('Subarray:')\n",
    "for i in range(2):\n",
    "    print(array[i])"
   ]
  },
  {
   "cell_type": "code",
   "execution_count": 7,
   "id": "b3d30d07",
   "metadata": {},
   "outputs": [],
   "source": [
    "#Q2\n",
    "data = [5, 3, 6, 3, 3, 6, 9, 8, 4, 1]"
   ]
  },
  {
   "cell_type": "code",
   "execution_count": 8,
   "id": "27f435a2",
   "metadata": {},
   "outputs": [
    {
     "name": "stdout",
     "output_type": "stream",
     "text": [
      "Mean = 4.8\n"
     ]
    }
   ],
   "source": [
    "#Mean\n",
    "mean = np38.mean(data)\n",
    "print('Mean =', mean)"
   ]
  },
  {
   "cell_type": "code",
   "execution_count": 9,
   "id": "a51379c3",
   "metadata": {},
   "outputs": [
    {
     "name": "stdout",
     "output_type": "stream",
     "text": [
      "Median = 4.5\n"
     ]
    }
   ],
   "source": [
    "#Median\n",
    "median = np38.median(data)\n",
    "print('Median =', median)"
   ]
  },
  {
   "cell_type": "code",
   "execution_count": 10,
   "id": "d5994a51",
   "metadata": {},
   "outputs": [
    {
     "name": "stdout",
     "output_type": "stream",
     "text": [
      "Mode = 3\n"
     ]
    }
   ],
   "source": [
    "#Mode\n",
    "count = np38.unique(data, return_counts=True)\n",
    "index = np38.argmax(count[1])\n",
    "mode = (count[0])[index]\n",
    "print('Mode =', mode)"
   ]
  },
  {
   "cell_type": "code",
   "execution_count": 11,
   "id": "d950dfca",
   "metadata": {},
   "outputs": [
    {
     "name": "stdout",
     "output_type": "stream",
     "text": [
      "Interquartile Range = 3.0\n"
     ]
    }
   ],
   "source": [
    "#Interquartile Range\n",
    "sorted_data = np38.sort(data)\n",
    "q1 = np38.percentile(sorted_data, 25)\n",
    "q3 = np38.percentile(sorted_data, 75)\n",
    "iqr=q3-q1\n",
    "print('Interquartile Range =', iqr)"
   ]
  },
  {
   "cell_type": "code",
   "execution_count": 12,
   "id": "694208e4",
   "metadata": {},
   "outputs": [
    {
     "name": "stdout",
     "output_type": "stream",
     "text": [
      "Outlier Exists\n"
     ]
    }
   ],
   "source": [
    "#Outliers\n",
    "l_bound = mean - iqr\n",
    "u_bound = mean + iqr\n",
    "key = 0\n",
    "for i in data:\n",
    "    if(data[i] > u_bound or data[i] < l_bound):\n",
    "        print(\"Outlier Exists\")\n",
    "        key = 1\n",
    "        break\n",
    "        \n",
    "if(key==0):\n",
    "    print(\"Outlier Does Not Exist\")"
   ]
  },
  {
   "cell_type": "code",
   "execution_count": 13,
   "id": "c4fe3442",
   "metadata": {},
   "outputs": [
    {
     "name": "stdout",
     "output_type": "stream",
     "text": [
      "              \n",
      "0         Name\n",
      "1          Age\n",
      "2  Roll Number\n"
     ]
    }
   ],
   "source": [
    "#Q3\n",
    "import pandas as pd38\n",
    "column = pd38.DataFrame({\"\":['Name', 'Age', 'Roll Number']})\n",
    "print(column.head())"
   ]
  },
  {
   "cell_type": "code",
   "execution_count": 14,
   "id": "62059974",
   "metadata": {},
   "outputs": [
    {
     "name": "stdout",
     "output_type": "stream",
     "text": [
      "String 1: listen\n",
      "String 2: silent\n",
      "Anagram\n"
     ]
    }
   ],
   "source": [
    "#Anagram\n",
    "string1 = input('String 1: ')\n",
    "string2 = input('String 2: ')\n",
    "\n",
    "sort_str1 = sorted(string1)\n",
    "sort_str2 = sorted(string2)\n",
    "\n",
    "if(sort_str1 == sort_str2):\n",
    "    print(\"Anagram\")\n",
    "else:\n",
    "    print(\"Not Anagram\")"
   ]
  }
 ],
 "metadata": {
  "kernelspec": {
   "display_name": "Python 3 (ipykernel)",
   "language": "python",
   "name": "python3"
  },
  "language_info": {
   "codemirror_mode": {
    "name": "ipython",
    "version": 3
   },
   "file_extension": ".py",
   "mimetype": "text/x-python",
   "name": "python",
   "nbconvert_exporter": "python",
   "pygments_lexer": "ipython3",
   "version": "3.10.11"
  }
 },
 "nbformat": 4,
 "nbformat_minor": 5
}
