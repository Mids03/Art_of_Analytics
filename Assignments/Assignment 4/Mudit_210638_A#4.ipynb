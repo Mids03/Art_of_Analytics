{
 "cells": [
  {
   "cell_type": "markdown",
   "metadata": {
    "id": "YcK9lcoMHvuD"
   },
   "source": [
    "**Assignment: Gaussian Naive Bayes for Titanic Survival Prediction**\n",
    "\n",
    "Instructions:\n",
    "\n",
    "You are required to write Python code to solve the given problems.\n",
    "\n",
    "Use the scikit-learn library for implementing Gaussian Naive Bayes.\n",
    "\n",
    "Comment your code appropriately for better understanding.\n",
    "\n",
    "Submit the Python script with the completed code."
   ]
  },
  {
   "cell_type": "markdown",
   "metadata": {
    "id": "Jwl3CxpRIFTQ"
   },
   "source": [
    "1. Load the \"Titanic\" dataset using pandas and explore its structure and contents. Show the result.\n",
    "2. Perform data preprocessing tasks such as handling missing values, feature selection, and feature encoding. Consider using techniques like imputation for missing values and one-hot encoding for categorical variables.\n",
    "3. Split the dataset into training and testing sets.\n",
    "\n",
    "*Use 7x% of the data for training and (100 - 7x)% for testing.*\n",
    "\n",
    "**[x = 2nd last digit of your roll number]**\n",
    "\n",
    "*comment your roll number and 2nd last digit*\n",
    "\n",
    "4. Implement Gaussian Naive Bayes using the training set. Train the model on the selected features and the corresponding target variable (Survived).\n",
    "5. Apply the trained model to make predictions on the testing set.\n",
    "6. Evaluate the performance of the Gaussian Naive Bayes model by calculating metrics such as accuracy, precision, recall, and F1-score. Interpret the results and analyze the model's effectiveness. (Be creative here)\n",
    "7. Any chart that you want to implement , do it (Bonus)"
   ]
  },
  {
   "cell_type": "code",
   "execution_count": 1,
   "metadata": {
    "id": "heyluBLrJ2cU"
   },
   "outputs": [
    {
     "name": "stdout",
     "output_type": "stream",
     "text": [
      "   Survived  Pclass                                               Name  \\\n",
      "0         0       3                             Mr. Owen Harris Braund   \n",
      "1         1       1  Mrs. John Bradley (Florence Briggs Thayer) Cum...   \n",
      "2         1       3                              Miss. Laina Heikkinen   \n",
      "3         1       1        Mrs. Jacques Heath (Lily May Peel) Futrelle   \n",
      "4         0       3                            Mr. William Henry Allen   \n",
      "\n",
      "      Sex   Age  Siblings/Spouses Aboard  Parents/Children Aboard     Fare  \n",
      "0    male  22.0                        1                        0   7.2500  \n",
      "1  female  38.0                        1                        0  71.2833  \n",
      "2  female  26.0                        0                        0   7.9250  \n",
      "3  female  35.0                        1                        0  53.1000  \n",
      "4    male  35.0                        0                        0   8.0500  \n"
     ]
    },
    {
     "name": "stderr",
     "output_type": "stream",
     "text": [
      "C:\\Users\\hp5cd\\AppData\\Local\\Temp\\ipykernel_7808\\3712999416.py:9: FutureWarning: The default value of numeric_only in DataFrame.mean is deprecated. In a future version, it will default to False. In addition, specifying 'numeric_only=None' is deprecated. Select only valid columns or specify the value of numeric_only to silence this warning.\n",
      "  titanic.fillna(titanic.mean(), inplace=True)\n"
     ]
    },
    {
     "name": "stdout",
     "output_type": "stream",
     "text": [
      "Accuracy: 1.0\n",
      "Precision: 1.0\n",
      "Recall: 1.0\n",
      "F1 Score: 1.0\n"
     ]
    }
   ],
   "source": [
    "#Last second digit of roll number = 3\n",
    "\n",
    "import pandas as pd\n",
    "\n",
    "titanic = pd.read_csv('https://web.stanford.edu/class/archive/cs/cs109/cs109.1166/stuff/titanic.csv')\n",
    "print(titanic.head())\n",
    "\n",
    "# Handling missing values\n",
    "titanic.fillna(titanic.mean(), inplace=True)\n",
    "\n",
    "# Feature selection\n",
    "features = ['Survived', 'Pclass', 'Name', 'Sex', 'Age', 'Siblings/Spouses Aboard',\n",
    "       'Parents/Children Aboard', 'Fare']\n",
    "X = titanic[features]\n",
    "y = titanic['Survived']\n",
    "\n",
    "# Feature encoding\n",
    "X = pd.get_dummies(X)\n",
    "\n",
    "from sklearn.model_selection import train_test_split\n",
    "\n",
    "X_train, X_test, y_train, y_test = train_test_split(X, y, test_size=0.21, random_state=20)\n",
    "\n",
    "from sklearn.naive_bayes import GaussianNB\n",
    "\n",
    "gnb = GaussianNB()\n",
    "gnb.fit(X_train, y_train)\n",
    "\n",
    "from sklearn.metrics import accuracy_score, precision_score, recall_score, f1_score\n",
    "\n",
    "y_pred = gnb.predict(X_test)\n",
    "\n",
    "print(\"Accuracy:\", accuracy_score(y_test,y_pred))\n",
    "print(\"Precision:\", precision_score(y_test,y_pred))\n",
    "print(\"Recall:\", recall_score(y_test,y_pred))\n",
    "print(\"F1 Score:\", f1_score(y_test,y_pred))"
   ]
  },
  {
   "cell_type": "code",
   "execution_count": 2,
   "metadata": {},
   "outputs": [
    {
     "data": {
      "image/png": "[encoded data removed]",
      "text/plain": [
       "<Figure size 640x480 with 1 Axes>"
      ]
     },
     "metadata": {},
     "output_type": "display_data"
    }
   ],
   "source": [
    "import matplotlib.pyplot as plt\n",
    "\n",
    "titanic['Survived'].value_counts().plot(kind='bar')\n",
    "plt.title('Number of Survivors (1) and Non-Survivors (0)')\n",
    "plt.xlabel('Survived')\n",
    "plt.ylabel('Count')\n",
    "plt.show()"
   ]
  }
 ],
 "metadata": {
  "colab": {
   "provenance": []
  },
  "kernelspec": {
   "display_name": "Python 3 (ipykernel)",
   "language": "python",
   "name": "python3"
  },
  "language_info": {
   "codemirror_mode": {
    "name": "ipython",
    "version": 3
   },
   "file_extension": ".py",
   "mimetype": "text/x-python",
   "name": "python",
   "nbconvert_exporter": "python",
   "pygments_lexer": "ipython3",
   "version": "3.10.11"
  }
 },
 "nbformat": 4,
 "nbformat_minor": 1
}
